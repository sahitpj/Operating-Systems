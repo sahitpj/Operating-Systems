{
 "cells": [
  {
   "cell_type": "code",
   "execution_count": 1,
   "metadata": {},
   "outputs": [
    {
     "name": "stdout",
     "output_type": "stream",
     "text": [
      "[72, 20, 75, 13, 71, 38, 66, 60, 17]\n"
     ]
    },
    {
     "data": {
      "text/plain": [
       "<Figure size 640x480 with 1 Axes>"
      ]
     },
     "metadata": {},
     "output_type": "display_data"
    }
   ],
   "source": [
    "import random\n",
    "import matplotlib.pyplot as plt\n",
    "import statistics as s\n",
    "#workload represent the percentage distribtuon\n",
    "\n",
    "class Simulator(object):\n",
    "    def __init__(self, algorithm, workload, cache_size, seed):\n",
    "        self.seed = seed\n",
    "        self.algorithm = algorithm\n",
    "        self.workload = workload\n",
    "        self.algos = ['FIFO', 'Random', 'LRU', 'Optimal']\n",
    "        self.pages = 100\n",
    "        self.workloadSize = 1000\n",
    "        self.cacheSequence = None\n",
    "        self.hotPages = None\n",
    "        self.cache_size = cache_size\n",
    "\n",
    "    def generate_hotPages(self):\n",
    "        hotPages = []\n",
    "        numberOfHotPages = int((1-self.workload)*self.pages)\n",
    "        while len(hotPages) < numberOfHotPages:\n",
    "            page = random.randint(1, 100)\n",
    "            if page not in hotPages:\n",
    "                hotPages.append(page)\n",
    "        self.hotPages = hotPages\n",
    "        \n",
    "    def workload_stats(self):\n",
    "        hot = 0\n",
    "        not_hot = 0\n",
    "        ls = [0]*self.workloadSize\n",
    "        for i in self.cacheSequence:\n",
    "            if i in self.hotPages:\n",
    "                hot += 1\n",
    "                ls[i] = 2\n",
    "            else:\n",
    "                not_hot += 1\n",
    "                ls[i] = 1\n",
    "        plt.scatter(range(1,1001),ls)\n",
    "        plt.show()\n",
    "\n",
    "    def generate_cacheSequence(self):\n",
    "        cacheSequence = [0]*self.workloadSize\n",
    "        for i in xrange(int(self.workloadSize*self.workload)):\n",
    "            k = random.choice(self.hotPages)\n",
    "            flag = 0\n",
    "            while flag == 0:\n",
    "                g = random.randint(0, 999)\n",
    "                if cacheSequence[g] == 0:\n",
    "                    cacheSequence[g] = k\n",
    "                    flag = 1\n",
    "        for i in xrange(int(self.workloadSize*(1-self.workload))):\n",
    "            flag_1 = 0\n",
    "            while flag_1 == 0:\n",
    "                k = random.choice(range(1,1001))\n",
    "                if k not in self.hotPages:\n",
    "                    flag_1 = 1\n",
    "                    flag_2 = 0\n",
    "                    while flag_2 == 0:\n",
    "                        g = random.randint(0, 999)\n",
    "                        if cacheSequence[g] == 0:\n",
    "                            cacheSequence[g] = k\n",
    "                            flag_2 = 1\n",
    "        self.cacheSequence = cacheSequence\n",
    "\n",
    "    def simulate_cache(self):\n",
    "        self.generate_hotPages()\n",
    "        self.generate_cacheSequence()\n",
    "        if self.algorithm == \"FIFO\":\n",
    "            hits, misses, miss_hit_table = fifo_cache(self.cacheSequence, self.cache_size)\n",
    "            return  hits, misses, miss_hit_table\n",
    "        elif self.algorithm == \"Random\":\n",
    "            hits, misses, miss_hit_table = Random(self.cacheSequence, self.cache_size, self.seed) \n",
    "            return  hits, misses, miss_hit_table  \n",
    "        elif self.algorithm == \"LRU\":\n",
    "            hits, misses, miss_hit_table = lru(self.cacheSequence, self.cache_size)\n",
    "            return  hits, misses, miss_hit_table\n",
    "        elif self.algorithm == \"Optimal\":\n",
    "            hits, misses, miss_hit_table = optimal(self.cacheSequence, self.cache_size)\n",
    "            return  hits, misses, miss_hit_table\n",
    "\n",
    "\n",
    "\n",
    "# cache sequence appears as a list\n",
    "\n",
    "def fifo_cache(cache_sequence, cache_size):\n",
    "    misses = 0\n",
    "    hits = 0\n",
    "    miss_hit_table = [0]*len(cache_sequence)\n",
    "    cache = []\n",
    "    firstCache_tracker = []\n",
    "    for i in xrange(len(cache_sequence)):\n",
    "        if cache_sequence[i] not in cache:\n",
    "            if len(cache) < cache_size:\n",
    "                cache.append(cache_sequence[i])\n",
    "                firstCache_tracker.append(i+1)\n",
    "            else:\n",
    "                f = min(firstCache_tracker)\n",
    "                ind = firstCache_tracker.index(f)\n",
    "                cache[ind] = cache_sequence[i]\n",
    "                firstCache_tracker[ind] = i+1\n",
    "            misses += 1\n",
    "            miss_hit_table[i] = 1\n",
    "        else:\n",
    "            hits += 1\n",
    "            miss_hit_table[i] = 0\n",
    "    return hits, misses, miss_hit_table\n",
    "\n",
    "\n",
    "\n",
    "\n",
    "def Random(cache_sequence, cache_size, seed):\n",
    "    misses = 0\n",
    "    hits = 0\n",
    "    miss_hit_table = [0]*len(cache_sequence)\n",
    "    cache = []\n",
    "    random.seed(seed)\n",
    "    for i in xrange(len(cache_sequence)):\n",
    "        if cache_sequence[i] not in cache:\n",
    "            if len(cache) < cache_size:\n",
    "                cache.append(cache_sequence[i])\n",
    "            else:\n",
    "                l = random.randint(0, cache_size-1)\n",
    "                cache[l] = cache_sequence[i]\n",
    "            misses += 1\n",
    "            miss_hit_table[i] = 1\n",
    "        else:\n",
    "            hits += 1\n",
    "            miss_hit_table[i] = 0\n",
    "    return hits, misses, miss_hit_table    \n",
    "\n",
    "\n",
    "def lru(cache_sequence, cache_size):\n",
    "    misses = 0\n",
    "    hits = 0\n",
    "    miss_hit_table = [0]*len(cache_sequence)\n",
    "    cache = []\n",
    "    recentCache_tracker = []\n",
    "    for i in xrange(len(cache_sequence)):\n",
    "        if cache_sequence[i] not in cache:\n",
    "            if len(cache) < cache_size:\n",
    "                cache.append(cache_sequence[i])\n",
    "                recentCache_tracker.append(i+1)\n",
    "            else:\n",
    "                f = min(recentCache_tracker)\n",
    "                ind = recentCache_tracker.index(f)\n",
    "                cache[ind] = cache_sequence[i]\n",
    "                recentCache_tracker[ind] = i+1 \n",
    "            misses += 1\n",
    "            miss_hit_table[i] = 1\n",
    "        else:\n",
    "            ind = cache.index(cache_sequence[i])\n",
    "            recentCache_tracker[ind] = i+1\n",
    "            hits += 1\n",
    "            miss_hit_table[i] = 0\n",
    "    return hits, misses, miss_hit_table\n",
    "\n",
    "\n",
    "def optimal(cache_sequence, cache_size):\n",
    "    misses = 0\n",
    "    hits = 0\n",
    "    miss_hit_table = [0]*len(cache_sequence)\n",
    "    cache = []\n",
    "    for i in xrange(len(cache_sequence)):\n",
    "        if cache_sequence[i] not in cache:\n",
    "            if len(cache) < cache_size:\n",
    "                cache.append(cache_sequence[i])\n",
    "            else:\n",
    "                flag = 0\n",
    "                remove_item = None\n",
    "                j = cache_sequence[i+1:]\n",
    "                d = []\n",
    "                for k in xrange(cache_size):\n",
    "                    try:\n",
    "                        d.append(j.index(cache[k]))\n",
    "                    except:\n",
    "                        remove_item = cache[k]\n",
    "                        flag = 1\n",
    "                if flag == 0:\n",
    "                    remove_item = j[max(d)]\n",
    "                cache.remove(remove_item)\n",
    "                cache.append(cache_sequence[i])\n",
    "            misses += 1\n",
    "            miss_hit_table[i] = 1\n",
    "        else:\n",
    "            hits += 1\n",
    "            miss_hit_table[i] = 0\n",
    "    return hits, misses, miss_hit_table\n",
    "\n",
    "\n",
    "     \n",
    "#let us define a Simulator, it takes in 3 argumenst - cache_algorithm; workload percentage; cache size; seed for Random cache policy\n",
    "\n",
    "sim_test = Simulator(\"FIFO\", 0.9, 10, None)\n",
    "sim_test.generate_hotPages()\n",
    "sim_test.generate_cacheSequence()\n",
    "print sim_test.hotPages\n",
    "# to show the workload distribution\n",
    "sim_test.workload_stats()\n"
   ]
  },
  {
   "cell_type": "code",
   "execution_count": 2,
   "metadata": {},
   "outputs": [
    {
     "data": {
      "image/png": "[encoded data removed]",
      "text/plain": [
       "<Figure size 432x288 with 1 Axes>"
      ]
     },
     "metadata": {},
     "output_type": "display_data"
    }
   ],
   "source": [
    "cache_size_list = range(1,1000,5)\n",
    "\n",
    "#first we use the FIFO algorithm\n",
    "hit_rate_list = []\n",
    "for i in xrange(len(cache_size_list)):\n",
    "    sim = Simulator(\"FIFO\", 0.9, cache_size_list[i], None)\n",
    "    hits, misses, miss_hit_table = sim.simulate_cache()\n",
    "    hit_rate_list.append(float(hits)/sim.workloadSize)\n",
    "    \n",
    "plt.scatter(cache_size_list, hit_rate_list)\n",
    "plt.ylim(0.8, 0.95)\n",
    "plt.show()"
   ]
  },
  {
   "cell_type": "code",
   "execution_count": 3,
   "metadata": {},
   "outputs": [
    {
     "data": {
      "image/png": "[encoded data removed]",
      "text/plain": [
       "<Figure size 432x288 with 1 Axes>"
      ]
     },
     "metadata": {},
     "output_type": "display_data"
    }
   ],
   "source": [
    "hit_rate_list = []\n",
    "for i in xrange(len(cache_size_list)):\n",
    "    #the seed here is 100\n",
    "    sim = Simulator(\"Random\", 0.9, cache_size_list[i], 100)\n",
    "    hits, misses, miss_hit_table = sim.simulate_cache()\n",
    "    hit_rate_list.append(float(hits)/sim.workloadSize)\n",
    "    \n",
    "plt.scatter(cache_size_list, hit_rate_list)\n",
    "plt.ylim(0.8, 0.95)\n",
    "plt.show()\n",
    "\n",
    "\n",
    "#now we run the following progrsm for various other seeds\n",
    "\n",
    "\n",
    "    \n",
    "\n"
   ]
  },
  {
   "cell_type": "code",
   "execution_count": 4,
   "metadata": {},
   "outputs": [
    {
     "name": "stdout",
     "output_type": "stream",
     "text": [
      "200\n"
     ]
    },
    {
     "data": {
      "image/png": "[encoded data removed]",
      "text/plain": [
       "<Figure size 432x288 with 1 Axes>"
      ]
     },
     "metadata": {},
     "output_type": "display_data"
    }
   ],
   "source": [
    "seeds_list = range(1,10)\n",
    "hit_rate_list_mean = []\n",
    "hit_rate_list_std = []\n",
    "for i in xrange(len(cache_size_list)):\n",
    "    l = []\n",
    "    for j in seeds_list:\n",
    "        sim = Simulator(\"Random\", 0.9, cache_size_list[i], j)\n",
    "        hits, misses, miss_hit_table = sim.simulate_cache()\n",
    "        l.append(float(hits)/sim.workloadSize)\n",
    "    hit_rate_list_mean.append(s.mean(l))\n",
    "    hit_rate_list_std.append(s.stdev(l))\n",
    "print len(hit_rate_list_mean)\n",
    "plt.scatter(cache_size_list, hit_rate_list_mean)\n",
    "plt.ylim(0.8, 0.95)\n",
    "plt.show()"
   ]
  },
  {
   "cell_type": "code",
   "execution_count": 5,
   "metadata": {},
   "outputs": [
    {
     "data": {
      "image/png": "[encoded data removed]",
      "text/plain": [
       "<Figure size 432x288 with 1 Axes>"
      ]
     },
     "metadata": {},
     "output_type": "display_data"
    }
   ],
   "source": [
    "plt.scatter(cache_size_list, hit_rate_list_std)\n",
    "#plt.ylim(0.8, 0.95)\n",
    "plt.show()"
   ]
  },
  {
   "cell_type": "code",
   "execution_count": 6,
   "metadata": {},
   "outputs": [
    {
     "data": {
      "image/png": "[encoded data removed]",
      "text/plain": [
       "<Figure size 432x288 with 1 Axes>"
      ]
     },
     "metadata": {},
     "output_type": "display_data"
    }
   ],
   "source": [
    "hit_rate_list = []\n",
    "for i in xrange(len(cache_size_list)):\n",
    "    sim = Simulator(\"LRU\", 0.9, cache_size_list[i], None)\n",
    "    hits, misses, miss_hit_table = sim.simulate_cache()\n",
    "    hit_rate_list.append(float(hits)/sim.workloadSize)\n",
    "    \n",
    "plt.scatter(cache_size_list, hit_rate_list)\n",
    "plt.ylim(0.8, 0.95)\n",
    "plt.show()"
   ]
  },
  {
   "cell_type": "code",
   "execution_count": 7,
   "metadata": {},
   "outputs": [
    {
     "data": {
      "image/png": "[encoded data removed]",
      "text/plain": [
       "<Figure size 432x288 with 1 Axes>"
      ]
     },
     "metadata": {},
     "output_type": "display_data"
    }
   ],
   "source": [
    "hit_rate_list = []\n",
    "for i in xrange(len(cache_size_list)):\n",
    "    sim = Simulator(\"Optimal\", 0.9, cache_size_list[i], None)\n",
    "    hits, misses, miss_hit_table = sim.simulate_cache()\n",
    "    hit_rate_list.append(float(hits)/sim.workloadSize)\n",
    "    \n",
    "plt.scatter(cache_size_list, hit_rate_list)\n",
    "plt.ylim(0.8, 0.95)\n",
    "plt.show()"
   ]
  }
 ],
 "metadata": {
  "kernelspec": {
   "display_name": "Python 2",
   "language": "python",
   "name": "python2"
  },
  "language_info": {
   "codemirror_mode": {
    "name": "ipython",
    "version": 2
   },
   "file_extension": ".py",
   "mimetype": "text/x-python",
   "name": "python",
   "nbconvert_exporter": "python",
   "pygments_lexer": "ipython2",
   "version": "2.7.15"
  }
 },
 "nbformat": 4,
 "nbformat_minor": 2
}
